{
 "cells": [
  {
   "cell_type": "code",
   "execution_count": 2,
   "metadata": {},
   "outputs": [],
   "source": [
    "from environment import Environment\n",
    "from individual import BinaryIndividual \n",
    "from crossover import SinglePointCrossOver\n",
    "from selector import LeadingSelector\n",
    "from fitness import WeightedSumFitness\n",
    "import logging \n",
    "import numpy as np"
   ]
  },
  {
   "cell_type": "markdown",
   "metadata": {},
   "source": [
    "# Formulate the Problem\n",
    "Define the genome as a 0-1 vector to represent each box. The problem is to find out a vector that maximize sum of box ***I***mportance where sum of box ***W***eights are less than or equal to 250. eq.   \n",
    "$$ \\max \\sum_{i}{I_i} \\quad where \\quad i \\in \\{0, \\dots, 11\\}  $$\n",
    "$$ s.t. \\sum_{i}{W_i} <= 250 $$"
   ]
  },
  {
   "cell_type": "markdown",
   "metadata": {},
   "source": [
    "# Define the components \n",
    "1. Chromosome: binary vector to represent whether the box is selected to put into my bag. eg. [1,1,0,0,0,0,0,0,0,1,1,0]\n",
    "2. Importance: a vector with same length and constant values: [6, 5, 8, 7, 6, 9, 4, 5, 4, 9, 2, 1]\n",
    "3. Box Weight: a vector with same length and constant values: [20, 30, 60, 90, 50, 70, 30, 30, 70, 20, 20, 60]\n",
    "2. Fitness: sum of importance, because we want to add as much important boxes as possible\n",
    "3. Constraints: sum of box weights(this is the weight of the boxes, but not weight parameter) should be less than or equal to 250.\n",
    "4. Survive Ratio: 0.5(or cull 0.5 as predefined by assignment requirement)\n",
    "5. Mutation Rate and Crossover operator can be adjusted in the experiment. \n"
   ]
  },
  {
   "cell_type": "code",
   "execution_count": 3,
   "metadata": {},
   "outputs": [],
   "source": [
    "def total_size(individual, size=np.array([])) :\n",
    "    chr_arr = np.array(individual.chromosome)\n",
    "    siz_arr = np.array(size)\n",
    "    total = np.dot(chr_arr, siz_arr.T)\n",
    "    return total \n",
    "\n",
    "def total_size_lt250(individual, size=np.array([])) :\n",
    "    total = total_size(individual, size)\n",
    "    return total <= 250"
   ]
  },
  {
   "cell_type": "markdown",
   "metadata": {},
   "source": [
    "# Define Hyperparameters \n",
    "- Initial Individuals: randomly initialized individuals will involve more possibility to find the best solution.\n",
    "- Selection ratio: can be changed to a smaller value to make the algorithm faster and a larger value to keep more candidates. \n",
    "- Crossover: crossover strategy can be customized, here only Single Point Crossover is implemented"
   ]
  },
  {
   "cell_type": "markdown",
   "metadata": {},
   "source": [
    "# Algorithm Steps\n",
    "1. Initialize: input parameters and create algorithm instance\n",
    "1. Calculate fitness: calculate fitness value for every individual\n",
    "1. Select: keep only the individuals fulfill the constrants\n",
    "1. Reproduce: generate new individuals by mutation and crossover operator\n",
    "1. Check Stop: check if stop criteria is fulfilled. If yes, stop the progress, otherwise repeat from step 2.  "
   ]
  },
  {
   "cell_type": "code",
   "execution_count": 4,
   "metadata": {},
   "outputs": [],
   "source": [
    "box_importance = [6, 5, 8, 7, 6, 9, 4, 5, 4, 9, 2, 1]\n",
    "box_weights = [20, 30, 60, 90, 50, 70, 30, 30, 70, 20, 20, 60]\n"
   ]
  },
  {
   "cell_type": "code",
   "execution_count": 5,
   "metadata": {},
   "outputs": [],
   "source": [
    "individuals = [ \n",
    "    BinaryIndividual([1,1,1,0,0,0,0,0,0,0,0,1],0,0),\n",
    "    BinaryIndividual([1,0,0,0,1,0,0,0,0,0,0,1],0,0),\n",
    "    BinaryIndividual([0,0,0,0,0,1,1,0,0,1,0,0],0,0),\n",
    "    BinaryIndividual([0,0,1,0,0,0,0,0,1,0,0,1],0,0),\n",
    "    BinaryIndividual([0,1,0,0,1,0,0,0,0,0,0,1],0,0),\n",
    "]    "
   ]
  },
  {
   "cell_type": "code",
   "execution_count": 6,
   "metadata": {},
   "outputs": [],
   "source": [
    "sel = LeadingSelector(\n",
    "    ratio = 0.5,\n",
    "    constraints=[lambda x: total_size_lt250(x, box_weights)]\n",
    ")\n",
    "\n",
    "fit = WeightedSumFitness(weights = box_importance)\n",
    "xo = SinglePointCrossOver()"
   ]
  },
  {
   "cell_type": "code",
   "execution_count": 7,
   "metadata": {},
   "outputs": [
    {
     "data": {
      "text/plain": [
       "<individual.BinaryIndividual at 0x200e2e3db08>"
      ]
     },
     "execution_count": 7,
     "metadata": {},
     "output_type": "execute_result"
    }
   ],
   "source": [
    "individuals[0]"
   ]
  },
  {
   "cell_type": "code",
   "execution_count": 8,
   "metadata": {},
   "outputs": [
    {
     "name": "stderr",
     "output_type": "stream",
     "text": [
      "2022-11-09 11:56:47,769 - Species - INFO - ITERATION START -- : 0\n",
      "2022-11-09 11:56:54,680 - Species - INFO - ITERATION START -- : 5\n",
      "2022-11-09 11:57:09,279 - Species - INFO - ITERATION START -- : 10\n",
      "2022-11-09 11:57:24,818 - Species - INFO - ITERATION START -- : 15\n",
      "2022-11-09 11:57:40,534 - Species - INFO - ITERATION START -- : 20\n",
      "2022-11-09 11:57:57,000 - Species - INFO - ITERATION START -- : 25\n",
      "2022-11-09 11:58:11,383 - Species - INFO - ITERATION START -- : 30\n",
      "2022-11-09 11:58:25,625 - Species - INFO - ITERATION START -- : 35\n",
      "2022-11-09 11:58:43,547 - Species - INFO - ITERATION START -- : 40\n",
      "2022-11-09 11:58:56,358 - Species - INFO - ITERATION START -- : 45\n",
      "2022-11-09 11:59:13,197 - Species - INFO - ITERATION START -- : 50\n",
      "2022-11-09 11:59:22,290 - Species - INFO - MAX_GENERATION Achieved -- top fitness: 44\n"
     ]
    },
    {
     "name": "stdout",
     "output_type": "stream",
     "text": [
      "82 51\n"
     ]
    }
   ],
   "source": [
    "env = Environment(\n",
    "    individuals,\n",
    "    selector=sel,\n",
    "    crossover=xo, \n",
    "    fitness_func=fit,\n",
    "    MAX_GENERATION=50,\n",
    "    CAPACITY=100, \n",
    "    MAX_ITERATION=100,\n",
    "    log_level=logging.DEBUG\n",
    ")\n",
    "\n",
    "env.evolute()\n",
    "\n",
    "print(env.species.population(), env.species.generations())\n"
   ]
  },
  {
   "cell_type": "markdown",
   "metadata": {},
   "source": [
    "# Recap\n",
    "After 50 iterations run, the maximum fitness reaches 44 and survived population is 53 at last round.  \n",
    "Checking with the original problem settings, our selected combination is {1,2,3,6,8,10,11}, with vector representation as [1, 1, 1, 0, 0, 1, 0, 1, 0, 1, 1, 0].  \n",
    "This set reaches 250 capability with highest total importance 44. It shows we find the combination as much valuable as possible without exceeding the backpack capability. \n",
    "## packages:\n",
    "python>=3.7  \n",
    "numpy==1.19.5  \n",
    "pandas==1.1.1 "
   ]
  },
  {
   "cell_type": "code",
   "execution_count": 9,
   "metadata": {},
   "outputs": [
    {
     "name": "stdout",
     "output_type": "stream",
     "text": [
      "The best 3 solutions are: \n",
      "[1, 1, 0, 0, 1, 1, 1, 1, 0, 1, 0, 0]\n",
      "[1, 1, 0, 0, 1, 1, 1, 1, 0, 1, 0, 0]\n",
      "[1, 1, 0, 0, 1, 1, 1, 1, 0, 1, 0, 0]\n"
     ]
    }
   ],
   "source": [
    "print('The best 3 solutions are: ')\n",
    "for sol in env.getSolution(3) :\n",
    "    print(sol) \n"
   ]
  }
 ],
 "metadata": {
  "kernelspec": {
   "display_name": "Python 3.7.9 64-bit",
   "language": "python",
   "name": "python3"
  },
  "language_info": {
   "codemirror_mode": {
    "name": "ipython",
    "version": 3
   },
   "file_extension": ".py",
   "mimetype": "text/x-python",
   "name": "python",
   "nbconvert_exporter": "python",
   "pygments_lexer": "ipython3",
   "version": "3.7.9"
  },
  "orig_nbformat": 4,
  "vscode": {
   "interpreter": {
    "hash": "eb4cdb330c5ea7232880705c0e79ad22649a7c708042624124f8ff95c4dc218f"
   }
  }
 },
 "nbformat": 4,
 "nbformat_minor": 2
}
