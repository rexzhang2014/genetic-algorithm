{
 "cells": [
  {
   "cell_type": "code",
   "execution_count": 1,
   "metadata": {},
   "outputs": [],
   "source": [
    "from helloga.environment import Environment\n",
    "from helloga.individual import IntegerIndividual\n",
    "from helloga.crossover import MultiPointCrossOver\n",
    "from helloga.selector import LeadingSelector\n",
    "from helloga.fitness import WeightedSumFitness\n",
    "import logging \n",
    "import numpy as np"
   ]
  },
  {
   "cell_type": "code",
   "execution_count": 2,
   "metadata": {},
   "outputs": [],
   "source": [
    "import networkx as nx\n",
    "import matplotlib.pyplot as plt\n",
    "from icecream import ic"
   ]
  },
  {
   "cell_type": "markdown",
   "metadata": {},
   "source": [
    "# GCP: Graph Coloring Problem\n",
    "- We know the graph structure with all vertices and edges. No weight is necessary in this problem. \n",
    "- The vertices connected by 1 edge cannot be the same color. \n",
    "- Solve: minimum number of different colors. The coloring result"
   ]
  },
  {
   "cell_type": "code",
   "execution_count": 3,
   "metadata": {},
   "outputs": [
    {
     "name": "stderr",
     "output_type": "stream",
     "text": [
      "ic| m: array([[0, 1, 1, 0, 0],\n",
      "              [1, 0, 1, 1, 0],\n",
      "              [1, 1, 0, 1, 0],\n",
      "              [0, 1, 1, 0, 1],\n",
      "              [0, 0, 0, 1, 0]])\n"
     ]
    },
    {
     "data": {
      "text/plain": [
       "array([[0, 1, 1, 0, 0],\n",
       "       [1, 0, 1, 1, 0],\n",
       "       [1, 1, 0, 1, 0],\n",
       "       [0, 1, 1, 0, 1],\n",
       "       [0, 0, 0, 1, 0]])"
      ]
     },
     "execution_count": 3,
     "metadata": {},
     "output_type": "execute_result"
    }
   ],
   "source": [
    "m = [\n",
    "    [0,1,1,0,0],\n",
    "    [1,0,1,1,0],\n",
    "    [1,1,0,1,0],\n",
    "    [0,1,1,0,1],\n",
    "    [0,0,0,1,0],\n",
    "]\n",
    "# Set up a distance matrix. For visualization only!\n",
    "m = np.array(m)\n",
    "ic(m)\n"
   ]
  },
  {
   "cell_type": "code",
   "execution_count": 4,
   "metadata": {},
   "outputs": [],
   "source": [
    "# create a graph and plot. For visualization only!\n",
    "g = nx.from_numpy_matrix(m)\n"
   ]
  },
  {
   "cell_type": "code",
   "execution_count": 5,
   "metadata": {},
   "outputs": [
    {
     "data": {
      "image/png": "[encoded data removed]",
      "text/plain": [
       "<Figure size 1080x648 with 1 Axes>"
      ]
     },
     "metadata": {},
     "output_type": "display_data"
    }
   ],
   "source": [
    "# for xi, yj in zip(x,y) :\n",
    "#     g.add_edge(xi,yj, weight=m[xi,yj], color='black')\n",
    "sg = g.subgraph(list(range(5)))\n",
    "fig, ax = plt.subplots(figsize=(15, 9))\n",
    "ax.axis(\"off\")\n",
    "\n",
    "# edgewidth=[]\n",
    "# for u,v,d in g.edges(data=True):\n",
    "#     edgewidth.append(round(g.get_edge_data(u,v)['weight']*1,2))\n",
    "cmap = ['g','b','r','y','w','grey']\n",
    "plot_options = {\"node_size\": 300, \"with_labels\": True, \"node_color\" : [cmap[i] for i in [0,1,2,0,1]] }\n",
    "nx.draw_networkx(sg, pos=nx.circular_layout(sg), ax=ax, **plot_options)"
   ]
  },
  {
   "cell_type": "markdown",
   "metadata": {},
   "source": [
    "# Formulate the Problem\n",
    "Assume we have 5 nodes to be coloring and infinite number of candidate colors, represented by integer for each color. \n",
    "\n",
    "Define the chromosome as a integer vector to represent color of each node, we need at most N(number of nodes) colors in total. The problem is to find out a vector that minimize N where colors at two nodes on the ends of an edge cannot be the same.   \n",
    "$$ \\min \\sum_{i}{x_{i}} \\quad where \\quad i \\in \\{0, \\dots, 4\\}  $$\n",
    "$$ s.t. \\quad x_{i} \\ne y_{i} \\quad where \\quad m_{xy} = 1, \\quad m \\quad is \\quad contijency \\quad matrix $$\n"
   ]
  },
  {
   "cell_type": "markdown",
   "metadata": {},
   "source": [
    "# Define the algorithm\n",
    "## Intial parameters \n",
    "1. Chromosome: integer vector of size 5, each of the element is a node in the graph.\n",
    "## Evolving Operators\n",
    "1. Fitness: negative sum of chromosome \n",
    "3. Constraints: \n",
    "4. Survive Ratio: 0.5 means only top 50% of population can be survived for next reproducing iteration.\n",
    "5. Mutation Rate: 0.1 by default, indicating that there is 10% probablity switch from 1 to 0 or inversed.\n",
    "5. Crossover: crossover strategy can be customized, SinglePointCrossover is usually proper for binary cases. \n"
   ]
  },
  {
   "cell_type": "code",
   "execution_count": 6,
   "metadata": {},
   "outputs": [],
   "source": [
    "# Define the constraints\n",
    "def edge_ends_not_equal(individual, M) :\n",
    "\n",
    "    x, y = np.where(M==1)\n",
    "\n",
    "    result = True\n",
    "    for xi, yi in zip(x, y) :\n",
    "        result = (result and (individual[int(xi)] != individual[int(yi)]))\n",
    "\n",
    "    return result"
   ]
  },
  {
   "cell_type": "code",
   "execution_count": 7,
   "metadata": {},
   "outputs": [
    {
     "data": {
      "text/plain": [
       "True"
      ]
     },
     "execution_count": 7,
     "metadata": {},
     "output_type": "execute_result"
    }
   ],
   "source": [
    "# Test the constraints\n",
    "ind = IntegerIndividual([0,1,2,0,1],0,0,domain=list(range(5)))\n",
    "edge_ends_not_equal(ind, M=m)"
   ]
  },
  {
   "cell_type": "markdown",
   "metadata": {},
   "source": [
    "# Define Hyperparameters \n",
    "- Initial Individuals: randomly initialized individuals will involve more possibility to find the best solution.\n",
    "- Selection ratio: can be changed to a smaller value to make the algorithm faster and a larger value to keep more candidates. \n"
   ]
  },
  {
   "cell_type": "markdown",
   "metadata": {},
   "source": [
    "# Algorithm Steps\n",
    "1. Initialize: input parameters and create algorithm instance\n",
    "1. Calculate fitness: calculate fitness value for every individual\n",
    "1. Select: keep only the individuals fulfill the constrants\n",
    "1. Reproduce: generate new individuals by mutation and crossover operator\n",
    "1. Exit criteria: check if stop criteria is fulfilled. If yes, stop the progress, otherwise repeat from step 2.  "
   ]
  },
  {
   "cell_type": "code",
   "execution_count": 8,
   "metadata": {},
   "outputs": [],
   "source": [
    "# Create individuals with none of them are feasible, we'll see they can produce feasible and optimal results though. \n",
    "individuals = [ \n",
    "    # IntegerIndividual([0,1,2,0,1],0,0,domain=list(range(5))),\n",
    "    # IntegerIndividual([1,0,2,1,0],0,0,domain=list(range(5))),\n",
    "    IntegerIndividual([1,1,1,1,1],0,0,domain=list(range(5))),\n",
    "    IntegerIndividual([1,0,3,2,4],0,0,domain=list(range(5))),\n",
    "    IntegerIndividual([3,4,1,2,1],0,0,domain=list(range(5))),\n",
    "    IntegerIndividual([1,2,1,2,1],0,0,domain=list(range(5))),\n",
    "    IntegerIndividual([3,3,1,2,1],0,0,domain=list(range(5))),\n",
    "    IntegerIndividual([0,0,1,2,1],0,0,domain=list(range(5))),\n",
    "    IntegerIndividual([0,4,3,2,1],0,0,domain=list(range(5))),\n",
    "    IntegerIndividual([3,0,0,2,0],0,0,domain=list(range(5))),\n",
    "]    "
   ]
  },
  {
   "cell_type": "code",
   "execution_count": 9,
   "metadata": {},
   "outputs": [],
   "source": [
    "\n",
    "# Define selector\n",
    "sel = LeadingSelector(\n",
    "    ratio = 0.5,\n",
    "    constraints = [lambda x: edge_ends_not_equal(x, m)],\n",
    "    feasible_ratio = 0\n",
    ")\n",
    "\n",
    "# Define fitness\n",
    "fit = WeightedSumFitness(weights=[-1,-1,-1,-1,-1])\n",
    "\n",
    "# Define crossover operator\n",
    "# xo = SinglePointCrossOver()\n",
    "xo = MultiPointCrossOver(2)\n"
   ]
  },
  {
   "cell_type": "code",
   "execution_count": 10,
   "metadata": {},
   "outputs": [],
   "source": [
    "# Create environment \n",
    "env = Environment(\n",
    "    individuals, # initial individuals with at least one feasible solution\n",
    "    selector=sel, \n",
    "    crossover=xo, \n",
    "    fitness_func=fit,\n",
    "    MAX_GENERATION=500, # stop criterion by generation(every time crossover op is called, the individual will be added 1 generation)\n",
    "    CAPACITY=100, # total individuals in the environment could not exceed this number, otherwise cull the population until population is smaller than capacity.\n",
    "    MAX_ITERATION=10, # stop when the algorithm iterates to max times. \n",
    "    CROSSOVER_RATIO=0.6,\n",
    "    verbose=1, # show log ever step\n",
    ")\n"
   ]
  },
  {
   "cell_type": "code",
   "execution_count": 11,
   "metadata": {},
   "outputs": [
    {
     "name": "stderr",
     "output_type": "stream",
     "text": [
      "2022-11-22 01:06:33,935 - Species - INFO - ITERATION START -- : 0\n",
      "2022-11-22 01:06:33,937 - Species - DEBUG - FITNESS - top:-4; sum: -62; avg:-7.75; population:8\n",
      "2022-11-22 01:06:33,937 - Species - DEBUG - PUNISHMENT -- population: 8, diversity:0\n",
      "2022-11-22 01:06:33,940 - Species - DEBUG - MUTATION -- population: 16; generation: 1\n",
      "2022-11-22 01:06:33,948 - Species - DEBUG - XOVER -- population: 88; generation: 1\n",
      "2022-11-22 01:06:33,959 - Species - DEBUG - FEASIBLE -- top:-4; sum: -62; avg:-7.75; population:17\n",
      "2022-11-22 01:06:33,961 - Species - DEBUG - FITNESS - top:-6; sum: -152; avg:-8.941176470588236; population:17\n",
      "2022-11-22 01:06:33,963 - Species - DEBUG - SELECTION -- top:-6; sum: -68; avg:-7.555555555555555; population:9\n",
      "2022-11-22 01:06:33,963 - Species - DEBUG - PUNISHMENT -- population: 9, diversity:0\n",
      "2022-11-22 01:06:33,965 - Species - DEBUG - MUTATION -- population: 18; generation: 2\n",
      "2022-11-22 01:06:33,973 - Species - DEBUG - XOVER -- population: 108; generation: 2\n",
      "2022-11-22 01:06:33,989 - Species - DEBUG - FEASIBLE -- top:-6; sum: -68; avg:-7.555555555555555; population:57\n",
      "2022-11-22 01:06:33,992 - Species - DEBUG - FITNESS - top:-6; sum: -430; avg:-7.543859649122807; population:57\n",
      "2022-11-22 01:06:33,996 - Species - DEBUG - SELECTION -- top:-6; sum: -192; avg:-6.620689655172414; population:29\n",
      "2022-11-22 01:06:33,997 - Species - DEBUG - PUNISHMENT -- population: 29, diversity:0\n",
      "2022-11-22 01:06:34,000 - Species - DEBUG - MUTATION -- population: 58; generation: 3\n",
      "2022-11-22 01:06:34,078 - Species - DEBUG - XOVER -- population: 1180; generation: 3\n",
      "2022-11-22 01:06:34,232 - Species - DEBUG - FEASIBLE -- top:-6; sum: -192; avg:-6.620689655172414; population:765\n",
      "2022-11-22 01:06:34,238 - Species - DEBUG - FITNESS - top:-5; sum: -5355; avg:-7.0; population:765\n",
      "2022-11-22 01:06:34,240 - Species - DEBUG - SELECTION -- top:-5; sum: -2504; avg:-6.537859007832898; population:383\n",
      "2022-11-22 01:06:34,280 - Species - DEBUG - PUNISHMENT -- population: 70, diversity:0\n",
      "2022-11-22 01:06:34,283 - Species - DEBUG - MUTATION -- population: 140; generation: 3\n",
      "2022-11-22 01:06:34,790 - Species - DEBUG - XOVER -- population: 7112; generation: 3\n",
      "2022-11-22 01:06:35,685 - Species - DEBUG - FEASIBLE -- top:-5; sum: -416; avg:-5.942857142857143; population:4497\n",
      "2022-11-22 01:06:35,712 - Species - DEBUG - FITNESS - top:-5; sum: -28463; avg:-6.329330664887703; population:4497\n",
      "2022-11-22 01:06:35,714 - Species - DEBUG - SELECTION -- top:-5; sum: -12960; avg:-5.762561138283681; population:2249\n",
      "2022-11-22 01:06:35,938 - Species - DEBUG - PUNISHMENT -- population: 81, diversity:0\n",
      "2022-11-22 01:06:35,941 - Species - DEBUG - MUTATION -- population: 162; generation: 4\n",
      "2022-11-22 01:06:36,721 - Species - DEBUG - XOVER -- population: 9474; generation: 4\n",
      "2022-11-22 01:06:38,254 - Species - DEBUG - FEASIBLE -- top:-5; sum: -408; avg:-5.037037037037037; population:8765\n",
      "2022-11-22 01:06:38,255 - Species - INFO - ITERATION START -- : 5\n",
      "2022-11-22 01:06:38,299 - Species - DEBUG - FITNESS - top:-5; sum: -47564; avg:-5.42658300057045; population:8765\n",
      "2022-11-22 01:06:38,301 - Species - DEBUG - SELECTION -- top:-5; sum: -21915; avg:-5.0; population:4383\n",
      "2022-11-22 01:06:38,714 - Species - DEBUG - PUNISHMENT -- population: 95, diversity:0\n",
      "2022-11-22 01:06:38,718 - Species - DEBUG - MUTATION -- population: 190; generation: 5\n",
      "2022-11-22 01:06:39,616 - Species - DEBUG - XOVER -- population: 13072; generation: 5\n",
      "2022-11-22 01:06:41,739 - Species - DEBUG - FEASIBLE -- top:-5; sum: -475; avg:-5.0; population:11915\n",
      "2022-11-22 01:06:41,796 - Species - DEBUG - FITNESS - top:-5; sum: -62973; avg:-5.2851867394041125; population:11915\n",
      "2022-11-22 01:06:41,798 - Species - DEBUG - SELECTION -- top:-5; sum: -29790; avg:-5.0; population:5958\n",
      "2022-11-22 01:06:42,357 - Species - DEBUG - PUNISHMENT -- population: 82, diversity:0\n",
      "2022-11-22 01:06:42,360 - Species - DEBUG - MUTATION -- population: 164; generation: 6\n",
      "2022-11-22 01:06:42,991 - Species - DEBUG - XOVER -- population: 9670; generation: 6\n",
      "2022-11-22 01:06:44,471 - Species - DEBUG - FEASIBLE -- top:-5; sum: -410; avg:-5.0; population:8320\n",
      "2022-11-22 01:06:44,511 - Species - DEBUG - FITNESS - top:-5; sum: -43830; avg:-5.268028846153846; population:8320\n",
      "2022-11-22 01:06:44,513 - Species - DEBUG - SELECTION -- top:-5; sum: -20800; avg:-5.0; population:4160\n",
      "2022-11-22 01:06:44,925 - Species - DEBUG - PUNISHMENT -- population: 64, diversity:0\n",
      "2022-11-22 01:06:44,928 - Species - DEBUG - MUTATION -- population: 128; generation: 6\n",
      "2022-11-22 01:06:45,308 - Species - DEBUG - XOVER -- population: 5828; generation: 6\n",
      "2022-11-22 01:06:46,265 - Species - DEBUG - FEASIBLE -- top:-5; sum: -320; avg:-5.0; population:5529\n",
      "2022-11-22 01:06:46,294 - Species - DEBUG - FITNESS - top:-5; sum: -29611; avg:-5.355579670826551; population:5529\n",
      "2022-11-22 01:06:46,296 - Species - DEBUG - SELECTION -- top:-5; sum: -13825; avg:-5.0; population:2765\n",
      "2022-11-22 01:06:46,568 - Species - DEBUG - PUNISHMENT -- population: 97, diversity:0\n",
      "2022-11-22 01:06:46,572 - Species - DEBUG - MUTATION -- population: 194; generation: 7\n",
      "2022-11-22 01:06:47,512 - Species - DEBUG - XOVER -- population: 13534; generation: 7\n",
      "2022-11-22 01:06:49,671 - Species - DEBUG - FEASIBLE -- top:-5; sum: -485; avg:-5.0; population:11957\n",
      "2022-11-22 01:06:49,730 - Species - DEBUG - FITNESS - top:-5; sum: -63392; avg:-5.301664297064481; population:11957\n",
      "2022-11-22 01:06:49,733 - Species - DEBUG - SELECTION -- top:-5; sum: -29895; avg:-5.0; population:5979\n",
      "2022-11-22 01:06:50,298 - Species - DEBUG - PUNISHMENT -- population: 81, diversity:0\n",
      "2022-11-22 01:06:50,301 - Species - DEBUG - MUTATION -- population: 162; generation: 8\n",
      "2022-11-22 01:06:50,922 - Species - DEBUG - XOVER -- population: 9474; generation: 8\n",
      "2022-11-22 01:06:52,452 - Species - DEBUG - FEASIBLE -- top:-5; sum: -405; avg:-5.0; population:8596\n"
     ]
    },
    {
     "name": "stdout",
     "output_type": "stream",
     "text": [
      "8596 8\n"
     ]
    }
   ],
   "source": [
    "# Run algorithm\n",
    "env.evolute()\n",
    "\n",
    "# Show population size and generation in the final state. \n",
    "print(env.species.population(), env.species.generations())\n"
   ]
  },
  {
   "cell_type": "code",
   "execution_count": 12,
   "metadata": {},
   "outputs": [
    {
     "name": "stdout",
     "output_type": "stream",
     "text": [
      "The best 3 solutions are: \n",
      "[2, 0, 1, 2, 0]\n",
      "[2, 0, 1, 2, 0]\n",
      "[2, 0, 1, 2, 0]\n"
     ]
    }
   ],
   "source": [
    "# Find best 3 solutions if any\n",
    "print('The best 3 solutions are: ')\n",
    "for sol in env.getSolution(3) :\n",
    "    print(sol) \n"
   ]
  },
  {
   "cell_type": "code",
   "execution_count": 13,
   "metadata": {},
   "outputs": [
    {
     "data": {
      "image/png": "[encoded data removed]",
      "text/plain": [
       "<Figure size 1080x648 with 1 Axes>"
      ]
     },
     "metadata": {},
     "output_type": "display_data"
    }
   ],
   "source": [
    "sg = g.subgraph(list(range(5)))\n",
    "fig, ax = plt.subplots(figsize=(15, 9))\n",
    "ax.axis(\"off\")\n",
    "\n",
    "cmap = ['g','b','r','y','w','grey']\n",
    "node_color = sol.chromosome\n",
    "\n",
    "plot_options = {\"node_size\": 300, \"with_labels\": True, \"node_color\" : [cmap[i] for i in node_color] }\n",
    "nx.draw_networkx(sg, pos=nx.circular_layout(sg), ax=ax, **plot_options)"
   ]
  },
  {
   "cell_type": "code",
   "execution_count": null,
   "metadata": {},
   "outputs": [],
   "source": []
  }
 ],
 "metadata": {
  "kernelspec": {
   "display_name": "Python 3.7.9 64-bit",
   "language": "python",
   "name": "python3"
  },
  "language_info": {
   "codemirror_mode": {
    "name": "ipython",
    "version": 3
   },
   "file_extension": ".py",
   "mimetype": "text/x-python",
   "name": "python",
   "nbconvert_exporter": "python",
   "pygments_lexer": "ipython3",
   "version": "3.7.9"
  },
  "orig_nbformat": 4,
  "vscode": {
   "interpreter": {
    "hash": "eb4cdb330c5ea7232880705c0e79ad22649a7c708042624124f8ff95c4dc218f"
   }
  }
 },
 "nbformat": 4,
 "nbformat_minor": 2
}
